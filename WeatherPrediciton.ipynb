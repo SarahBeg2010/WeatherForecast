{
  "cells": [
    {
      "cell_type": "markdown",
      "metadata": {
        "id": "view-in-github",
        "colab_type": "text"
      },
      "source": [
        "<a href=\"https://colab.research.google.com/github/SarahBeg2010/WeatherForecast/blob/main/WeatherPrediciton.ipynb\" target=\"_parent\"><img src=\"https://colab.research.google.com/assets/colab-badge.svg\" alt=\"Open In Colab\"/></a>"
      ]
    },
    {
      "cell_type": "markdown",
      "id": "31d9a4c9",
      "metadata": {
        "origin_pos": 0,
        "id": "31d9a4c9"
      },
      "source": [
        "# Using Jupyter Notebooks\n",
        ":label:`sec_jupyter`\n",
        "\n",
        "\n",
        "This section describes how to edit and run the code\n",
        "in each section of this book\n",
        "using the Jupyter Notebook. Make sure you have\n",
        "installed Jupyter and downloaded the\n",
        "code as described in\n",
        ":ref:`chap_installation`.\n",
        "If you want to know more about Jupyter see the excellent tutorial in\n",
        "their [documentation](https://jupyter.readthedocs.io/en/latest/).\n",
        "\n",
        "\n",
        "## Editing and Running the Code Locally\n",
        "\n",
        "Suppose that the local path of the book's code is `xx/yy/d2l-en/`. Use the shell to change the directory to this path (`cd xx/yy/d2l-en`) and run the command `jupyter notebook`. If your browser does not do this automatically, open http://localhost:8888 and you will see the interface of Jupyter and all the folders containing the code of the book, as shown in :numref:`fig_jupyter00`.\n",
        "\n",
        "![The folders containing the code of this book.](https://github.com/d2l-ai/d2l-en-colab/blob/master/img/jupyter00.png?raw=1)\n",
        ":width:`600px`\n",
        ":label:`fig_jupyter00`\n",
        "\n",
        "\n",
        "You can access the notebook files by clicking on the folder displayed on the webpage.\n",
        "They usually have the suffix \".ipynb\".\n",
        "For the sake of brevity, we create a temporary \"test.ipynb\" file.\n",
        "The content displayed after you click it is\n",
        "shown in :numref:`fig_jupyter01`.\n",
        "This notebook includes a markdown cell and a code cell. The content in the markdown cell includes \"This Is a Title\" and \"This is text.\".\n",
        "The code cell contains two lines of Python code.\n",
        "\n",
        "![Markdown and code cells in the \"text.ipynb\" file.](https://github.com/d2l-ai/d2l-en-colab/blob/master/img/jupyter01.png?raw=1)\n",
        ":width:`600px`\n",
        ":label:`fig_jupyter01`\n",
        "\n",
        "\n",
        "Double click on the markdown cell to enter edit mode.\n",
        "Add a new text string \"Hello world.\" at the end of the cell, as shown in :numref:`fig_jupyter02`.\n",
        "\n",
        "![Edit the markdown cell.](https://github.com/d2l-ai/d2l-en-colab/blob/master/img/jupyter02.png?raw=1)\n",
        ":width:`600px`\n",
        ":label:`fig_jupyter02`\n",
        "\n",
        "\n",
        "As demonstrated in :numref:`fig_jupyter03`,\n",
        "click \"Cell\" $\\rightarrow$ \"Run Cells\" in the menu bar to run the edited cell.\n",
        "\n",
        "![Run the cell.](https://github.com/d2l-ai/d2l-en-colab/blob/master/img/jupyter03.png?raw=1)\n",
        ":width:`600px`\n",
        ":label:`fig_jupyter03`\n",
        "\n",
        "After running, the markdown cell is shown in :numref:`fig_jupyter04`.\n",
        "\n",
        "![The markdown cell after running.](https://github.com/d2l-ai/d2l-en-colab/blob/master/img/jupyter04.png?raw=1)\n",
        ":width:`600px`\n",
        ":label:`fig_jupyter04`\n",
        "\n",
        "\n",
        "Next, click on the code cell. Multiply the elements by 2 after the last line of code, as shown in :numref:`fig_jupyter05`.\n",
        "\n",
        "![Edit the code cell.](https://github.com/d2l-ai/d2l-en-colab/blob/master/img/jupyter05.png?raw=1)\n",
        ":width:`600px`\n",
        ":label:`fig_jupyter05`\n",
        "\n",
        "\n",
        "You can also run the cell with a shortcut (\"Ctrl + Enter\" by default) and obtain the output result from :numref:`fig_jupyter06`.\n",
        "\n",
        "![Run the code cell to obtain the output.](https://github.com/d2l-ai/d2l-en-colab/blob/master/img/jupyter06.png?raw=1)\n",
        ":width:`600px`\n",
        ":label:`fig_jupyter06`\n",
        "\n",
        "\n",
        "When a notebook contains more cells, we can click \"Kernel\" $\\rightarrow$ \"Restart & Run All\" in the menu bar to run all the cells in the entire notebook. By clicking \"Help\" $\\rightarrow$ \"Edit Keyboard Shortcuts\" in the menu bar, you can edit the shortcuts according to your preferences.\n",
        "\n",
        "## Advanced Options\n",
        "\n",
        "Beyond local editing two things are quite important: editing the notebooks in the markdown format and running Jupyter remotely.\n",
        "The latter matters when we want to run the code on a faster server.\n",
        "The former matters since Jupyter's native ipynb format stores a lot of auxiliary data that is\n",
        "irrelevant to the content,\n",
        "mostly related to how and where the code is run.\n",
        "This is confusing for Git, making\n",
        "reviewing contributions very difficult.\n",
        "Fortunately there is an alternative---native editing in the markdown format.\n",
        "\n",
        "### Markdown Files in Jupyter\n",
        "\n",
        "If you wish to contribute to the content of this book, you need to modify the\n",
        "source file (md file, not ipynb file) on GitHub.\n",
        "Using the notedown plugin we\n",
        "can modify notebooks in the md format directly in Jupyter.\n",
        "\n",
        "\n",
        "First, install the notedown plugin, run the Jupyter Notebook, and load the plugin:\n",
        "\n",
        "```\n",
        "pip install d2l-notedown  # You may need to uninstall the original notedown.\n",
        "jupyter notebook --NotebookApp.contents_manager_class='notedown.NotedownContentsManager'\n",
        "```\n",
        "\n",
        "You may also turn on the notedown plugin by default whenever you run the Jupyter Notebook.\n",
        "First, generate a Jupyter Notebook configuration file (if it has already been generated, you can skip this step).\n",
        "\n",
        "```\n",
        "jupyter notebook --generate-config\n",
        "```\n",
        "\n",
        "Then, add the following line to the end of the Jupyter Notebook configuration file (for Linux or macOS, usually in the path `~/.jupyter/jupyter_notebook_config.py`):\n",
        "\n",
        "```\n",
        "c.NotebookApp.contents_manager_class = 'notedown.NotedownContentsManager'\n",
        "```\n",
        "\n",
        "After that, you only need to run the `jupyter notebook` command to turn on the notedown plugin by default.\n",
        "\n",
        "### Running Jupyter Notebooks on a Remote Server\n",
        "\n",
        "Sometimes, you may want to run Jupyter notebooks on a remote server and access it through a browser on your local computer. If Linux or macOS is installed on your local machine (Windows can also support this function through third-party software such as PuTTY), you can use port forwarding:\n",
        "\n",
        "```\n",
        "ssh myserver -L 8888:localhost:8888\n",
        "```\n",
        "\n",
        "The above string `myserver` is the address of the remote server.\n",
        "Then we can use http://localhost:8888 to access the remote server `myserver` that runs Jupyter notebooks. We will detail on how to run Jupyter notebooks on AWS instances\n",
        "later in this appendix.\n",
        "\n",
        "### Timing\n",
        "\n",
        "We can use the `ExecuteTime` plugin to time the execution of each code cell in Jupyter notebooks.\n",
        "Use the following commands to install the plugin:\n",
        "\n",
        "```\n",
        "pip install jupyter_contrib_nbextensions\n",
        "jupyter contrib nbextension install --user\n",
        "jupyter nbextension enable execute_time/ExecuteTime\n",
        "```\n",
        "\n",
        "## Summary\n",
        "\n",
        "* Using the Jupyter Notebook tool, we can edit, run, and contribute to each section of the book.\n",
        "* We can run Jupyter notebooks on remote servers using port forwarding.\n",
        "\n",
        "\n",
        "## Exercises\n",
        "\n",
        "1. Edit and run the code in this book with the Jupyter Notebook on your local machine.\n",
        "1. Edit and run the code in this book with the Jupyter Notebook *remotely* via port forwarding.\n",
        "1. Compare the running time of the operations $\\mathbf{A}^\\top \\mathbf{B}$ and $\\mathbf{A} \\mathbf{B}$ for two square matrices in $\\mathbb{R}^{1024 \\times 1024}$. Which one is faster?\n",
        "\n",
        "\n",
        "[Discussions](https://discuss.d2l.ai/t/421)\n"
      ]
    },
    {
      "cell_type": "markdown",
      "source": [
        "Section 1: import libraries"
      ],
      "metadata": {
        "id": "ku3DXpTRFugt"
      },
      "id": "ku3DXpTRFugt"
    },
    {
      "cell_type": "code",
      "source": [
        "import requests #help fecth data\n",
        "import pandas as pd #for analysing data\n",
        "import numpy as np #for numericals\n",
        "from sklearn.model_selection import train_test_split #to split data sets\n",
        "from sklearn.preprocessing import LabelEncoder #to convert categorial data to numericals\n",
        "from sklearn.ensemble import RandomForestClassifier, RandomForestRegressor #models for classification and regression\n",
        "from sklearn.metrics import mean_squared_error #to measure accuracy of predictions\n",
        "from datetime import datetime, timedelta #for date and time\n",
        "import pytz"
      ],
      "metadata": {
        "id": "X30bDMGMFpWQ"
      },
      "id": "X30bDMGMFpWQ",
      "execution_count": null,
      "outputs": []
    },
    {
      "cell_type": "code",
      "source": [
        "API_KEY='04ee910c5c7a11b85aed90bba835e22a'\n",
        "BASE_URL='https://api.openweathermap.org/data/2.5/'"
      ],
      "metadata": {
        "id": "S8TE4o8Ik3dQ"
      },
      "id": "S8TE4o8Ik3dQ",
      "execution_count": null,
      "outputs": []
    },
    {
      "cell_type": "markdown",
      "source": [
        "1. Fetch Current Weather data"
      ],
      "metadata": {
        "id": "ZilDyRcdmRqu"
      },
      "id": "ZilDyRcdmRqu"
    },
    {
      "cell_type": "code",
      "source": [
        "def get_current_weather(city):\n",
        "  url = f\"{BASE_URL}weather?q={city}&appid={API_KEY}&units=metric\" #api request url\n",
        "  response=requests.get(url) #get request to api\n",
        "  data=response.json()\n",
        "  return{\n",
        "      'city': data['name'],\n",
        "      'current_temp': round(data['main']['temp']),\n",
        "      'feels-like': round(data['main']['feels_like']),\n",
        "      'temp_min': round(data['main']['temp_min']),\n",
        "      'temp_max': round(data['main']['temp_max']),\n",
        "      'humidity': round(data['main']['humidity']),\n",
        "      'description': data['weather'][0]['description'],\n",
        "      'country': data['sys']['country'],\n",
        "      'wind_gust_dir': data['wind']['deg'],\n",
        "      'pressure': data['main']['pressure'],\n",
        "      'Wind_Gust_Speed': data['wind']['speed']\n",
        "  }"
      ],
      "metadata": {
        "id": "2fLoCeYUmWdp"
      },
      "id": "2fLoCeYUmWdp",
      "execution_count": null,
      "outputs": []
    },
    {
      "cell_type": "markdown",
      "source": [
        "2. Read historical data"
      ],
      "metadata": {
        "id": "86XVfaOCtgHs"
      },
      "id": "86XVfaOCtgHs"
    },
    {
      "cell_type": "code",
      "source": [
        "def read_historical_data(fiename):\n",
        "  df=pd.read_csv(fiename) #load csv file to dataframe\n",
        "  df=df.dropna() #to remove rows with missing value\n",
        "  df=df.drop_duplicates() #to remove duplicate data\n",
        "  return df"
      ],
      "metadata": {
        "id": "GJcc8Mpgtq0o"
      },
      "id": "GJcc8Mpgtq0o",
      "execution_count": null,
      "outputs": []
    },
    {
      "cell_type": "markdown",
      "source": [
        "3. Prepare data for training"
      ],
      "metadata": {
        "id": "1-iNpjsowFY9"
      },
      "id": "1-iNpjsowFY9"
    },
    {
      "cell_type": "code",
      "source": [
        "def prepare_dat(data):\n",
        "  le=LabelEncoder() #create LabelEncoder instance\n",
        "  data['WindGustDir']=le.fit_transform(data['WindGustDir'])\n",
        "  data['RainTomorrow']=le.fit_transform(data['RainTomorrow'])\n",
        "\n",
        "  x=data[['MinTemp','MaxTemp','WindGustDir','WindGustSpeed','Humidity','Pressure','Temp']] #feature variables to use\n",
        "  y=data['RainTomorrow'] #target variable to predict\n",
        "  return x, y, le"
      ],
      "metadata": {
        "id": "K1bOrDw1wI6L"
      },
      "id": "K1bOrDw1wI6L",
      "execution_count": null,
      "outputs": []
    },
    {
      "cell_type": "markdown",
      "source": [
        "4. Train rainprediction model using Random Forest"
      ],
      "metadata": {
        "id": "QOTCzFSzx6Zx"
      },
      "id": "QOTCzFSzx6Zx"
    },
    {
      "cell_type": "code",
      "source": [
        "def train_rain_model(x,y):\n",
        "  x_train, x_test, y_train, y_test = train_test_split(x, y, test_size=0.2, random_state=42) #splitting data 80% for training and 20% for testing #making sure to get consistent and help i nreproducability\n",
        "  model = RandomForestClassifier(n_estimators=100, random_state=42) #using 100 decision trees in RandomForest #for categorial data\n",
        "  model.fit(x_train, y_train) #train the model\n",
        "\n",
        "  y_pred = model.predict(x_test) #to make prediction\n",
        "\n",
        "  print(\"Mean Squared Error for Rain Model\")\n",
        "  print(mean_squared_error(y_test, y_pred)) #avg squared values between test and predicted values\n",
        "\n",
        "  return model"
      ],
      "metadata": {
        "id": "KKicq1XNJwtn"
      },
      "id": "KKicq1XNJwtn",
      "execution_count": null,
      "outputs": []
    },
    {
      "cell_type": "markdown",
      "source": [
        "5. Prepare regression data"
      ],
      "metadata": {
        "id": "PuzCHFTiMOdp"
      },
      "id": "PuzCHFTiMOdp"
    },
    {
      "cell_type": "code",
      "source": [
        "#Regression for predicting continous future data\n",
        "def prepare_regression_data(data, feature):\n",
        "  x, y = [], [] #list to store feature and target values respectively\n",
        "  for i in range(len(data)-1):\n",
        "    x.append(data[feature].iloc[i]) #to add values to lists\n",
        "    y.append(data[feature].iloc[i+1])\n",
        "  x = np.array(x).reshape(-1, 1) #turn x into 2d array as required by regression model\n",
        "  y = np.array(y) #y remains 1d array as it is test data\n",
        "  return x, y"
      ],
      "metadata": {
        "id": "Um1tVxTyMSvx"
      },
      "id": "Um1tVxTyMSvx",
      "execution_count": null,
      "outputs": []
    },
    {
      "cell_type": "markdown",
      "source": [
        "6. Train regression model"
      ],
      "metadata": {
        "id": "Srk_FV0dOfUh"
      },
      "id": "Srk_FV0dOfUh"
    },
    {
      "cell_type": "code",
      "source": [
        "def train_regression_model(x, y ):\n",
        "  model = RandomForestRegressor(n_estimators=100, random_state=42)\n",
        "  model.fit(x, y)\n",
        "  return model"
      ],
      "metadata": {
        "id": "jWKDyYbyOkh3"
      },
      "id": "jWKDyYbyOkh3",
      "execution_count": null,
      "outputs": []
    },
    {
      "cell_type": "markdown",
      "source": [
        "7. Predict future"
      ],
      "metadata": {
        "id": "Foyvg-6tO_S6"
      },
      "id": "Foyvg-6tO_S6"
    },
    {
      "cell_type": "code",
      "source": [
        "def predict_future(model, current_value):\n",
        "  predictions = [current_value] #list to amke base for prediction\n",
        "\n",
        "  for i in range(5): #running 5 times to predict next 5 values\n",
        "    next_value = model.predict(np.array([[predictions[-1]]])) #predict next value\n",
        "\n",
        "    predictions.append(next_value[0]) #add the predicted value to list to form basis for further predictions\n",
        "\n",
        "  return predictions[1:]"
      ],
      "metadata": {
        "id": "eZbk1ISVPCfi"
      },
      "id": "eZbk1ISVPCfi",
      "execution_count": null,
      "outputs": []
    },
    {
      "cell_type": "markdown",
      "source": [
        "8. Weather Analysis"
      ],
      "metadata": {
        "id": "THidVehNTDMF"
      },
      "id": "THidVehNTDMF"
    },
    {
      "cell_type": "code",
      "source": [
        "def weather_view():\n",
        "  city = input('Enter any city name: ')\n",
        "  current_weather = get_current_weather(city)\n",
        "\n",
        "  #print(\"Keys in current_weather dictionary:\", current_weather.keys()) # Add this line to print the keys\n",
        "\n",
        "\n",
        "  #load historical data\n",
        "  historical_data = read_historical_data('/content/weather.csv')\n",
        "\n",
        "  #prepare and train rain prediction model\n",
        "  #pass historical data\n",
        "  x, y, le = prepare_dat(historical_data)\n",
        "  rain_model = train_rain_model(x, y) #to predict if it will rain tomorrow\n",
        "\n",
        "  #map wind directions to compas points to convert into categorial form\n",
        "  wind_deg = current_weather['wind_gust_dir'] % 360\n",
        "  compass_points = [\n",
        "      (\"N\", 0, 11.25), (\"NNE\", 11.25, 33.75), (\"NE\", 33.75, 56.25),\n",
        "      (\"ENE\", 56.25, 78.75), (\"E\", 78.75, 101.25), (\"ESE\", 101.25, 123.75),\n",
        "      (\"SE\", 123.75, 146.25), (\"SSE\", 146.25, 168.75), (\"S\", 168.75, 191.25),\n",
        "      (\"SW\", 191.25, 213.75), (\"WSW\", 213.75, 236.25), (\"W\", 236.25, 258.75),\n",
        "      (\"WNW\", 258.75, 281.25), (\"NW\", 281.25, 303.75), (\"NNW\", 303.75, 326.25),\n",
        "      (\"N\", 348.75, 360.0)\n",
        "  ] #range for directions\n",
        "  compass_direction = next(point for point, start, end in compass_points if start <= wind_deg < end)\n",
        "  compass_direction_encoded = le.transform([compass_direction])[0] if compass_direction in le.classes_ else -1 #to check categories of compas direction\n",
        "  #predict rain on basis of today's weather\n",
        "  current_data = {\n",
        "      'MinTemp': current_weather['temp_min'],\n",
        "      'MaxTemp': current_weather['temp_max'],\n",
        "      'WindGustDir': compass_direction_encoded,\n",
        "      'WindGustSpeed': current_weather['Wind_Gust_Speed'],\n",
        "      'Humidity': current_weather['humidity'],\n",
        "      'Pressure': current_weather['pressure'],\n",
        "      'Temp': current_weather['current_temp']\n",
        "  }\n",
        "\n",
        "  current_df =pd.DataFrame([current_data]) #format on which model can work\n",
        "\n",
        "  #rain prediction\n",
        "  rain_prediciton = rain_model.predict(current_df)[0] #[0] extracts single prediction value from result\n",
        "\n",
        "  #prepare regression model for temperature and humidity\n",
        "  x_temp, y_temp = prepare_regression_data(historical_data, 'Temp') #prep temp data\n",
        "  x_hum, y_hum =prepare_regression_data(historical_data, 'Humidity') #prep humidity data\n",
        "\n",
        "  temp_model = train_regression_model(x_temp, y_temp) #trinn for temp\n",
        "  hum_model = train_regression_model(x_hum, y_hum) #train for humidity\n",
        "\n",
        "  #predict future temperature and humidity\n",
        "  future_temp = predict_future(temp_model, current_weather['temp_min'])\n",
        "  future_humidity = predict_future(hum_model, current_weather['humidity'])\n",
        "\n",
        "  #prepare time for predictions\n",
        "  timezone = pytz.timezone('Asia/Karachi')\n",
        "  now = datetime.now(timezone)\n",
        "  next_hour =now + timedelta(hours=1)\n",
        "  next_hour = next_hour.replace(minute=0, second=0, microsecond=0)\n",
        "\n",
        "  future_times = [(next_hour + timedelta(hours=i)).strftime(\"%H:00\") for i in range (5)]\n",
        "\n",
        "  #display results\n",
        "  print(f\"city: {city}, {current_weather['country']}\")\n",
        "  print(f\"current Temperature: {current_weather['current_temp']}\")\n",
        "  print(f\"Minimun Temperature: {current_weather['temp_min']}C\")\n",
        "  print(f\"Maximum Temperature: {current_weather['temp_max']}C\")\n",
        "  print(f\"Humidity: {current_weather['humidity']}%\")\n",
        "  print(f\"Weather prediciton: {current_weather['description']}\")\n",
        "  print(f\"Rain prediction: {'Yes' if rain_prediciton else 'No'}\")\n",
        "\n",
        "  print(\"\\nFuture Temperature Predicitons:\")\n",
        "  for time, temp in zip(future_times, future_temp): #zip to pair time and temp together\n",
        "   print(f\"{time}: {round(temp, 1)}C\") #round off temp to 1 decimal point\n",
        "\n",
        "  print(\"\\nFuture Humidity Predicitons:\")\n",
        "  for time, humidity in zip(future_times, future_humidity):\n",
        "    print(f\"{time}: {round(humidity, 1)}%\")\n",
        "\n",
        "weather_view()"
      ],
      "metadata": {
        "colab": {
          "base_uri": "https://localhost:8080/"
        },
        "id": "0NMpSoGJTGtv",
        "outputId": "90cbed44-c4f9-4f8b-fbcd-ef6dade409ce"
      },
      "id": "0NMpSoGJTGtv",
      "execution_count": null,
      "outputs": [
        {
          "output_type": "stream",
          "name": "stdout",
          "text": [
            "Enter any city name: jaipur\n",
            "Mean Squared Error for Rain Model\n",
            "0.1506849315068493\n",
            "city: jaipur, IN\n",
            "current Temperature: 20\n",
            "Minimun Temperature: 20C\n",
            "Maximum Temperature: 20C\n",
            "Humidity: 88%\n",
            "Weather prediciton: mist\n",
            "Rain prediction: Yes\n",
            "\n",
            "Future Temperature Predicitons:\n",
            "22:00: 22.1C\n",
            "23:00: 23.3C\n",
            "00:00: 19.0C\n",
            "01:00: 24.5C\n",
            "02:00: 24.5C\n",
            "\n",
            "Future Humidity Predicitons:\n",
            "22:00: 64.4%\n",
            "23:00: 45.2%\n",
            "00:00: 46.3%\n",
            "01:00: 48.2%\n",
            "02:00: 53.7%\n"
          ]
        }
      ]
    }
  ],
  "metadata": {
    "kernelspec": {
      "display_name": "Python 3",
      "name": "python3"
    },
    "language_info": {
      "name": "python"
    },
    "required_libs": [],
    "colab": {
      "provenance": [],
      "include_colab_link": true
    }
  },
  "nbformat": 4,
  "nbformat_minor": 5
}